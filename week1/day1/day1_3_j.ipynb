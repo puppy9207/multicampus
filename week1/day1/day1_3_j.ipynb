{
 "cells": [
  {
   "cell_type": "markdown",
   "metadata": {
    "collapsed": true
   },
   "source": [
    "# 연산자 종류\n",
    "-----\n",
    "## 연산자 설명\n",
    "\n",
    "- - -\n",
    "+ **문자열 연산자** : +, *\n",
    "\n",
    "+ **산술 연산자** : +,-,*,/,//,%,***\n",
    "\n",
    "+ **관계 연산자** : ==, <=, >=, >, <\n",
    "\n",
    "+ **대입 연산자** : +=, -=, *= , /=, (++,-- 증감연산자는 없음)\n",
    "</hr>"
   ]
  },
  {
   "cell_type": "code",
   "execution_count": 7,
   "metadata": {},
   "outputs": [
    {
     "name": "stdout",
     "output_type": "stream",
     "text": [
      "20\n"
     ]
    }
   ],
   "source": [
    "a = 10\n",
    "b = 10\n",
    "b += a\n",
    "print(b)"
   ]
  },
  {
   "cell_type": "code",
   "execution_count": 8,
   "metadata": {},
   "outputs": [
    {
     "name": "stdout",
     "output_type": "stream",
     "text": [
      "12 33\n",
      "a = 10, b = 5\n"
     ]
    }
   ],
   "source": [
    "# .format {}\n",
    "print('{a1} {b}'.format(a1=12,b=33))\n",
    "a= 10\n",
    "b= 5\n",
    "print('a = {}, b = {}'.format(a,b))"
   ]
  },
  {
   "cell_type": "markdown",
   "metadata": {},
   "source": [
    "## 변수\n",
    "값을 저장할 수 있는 공간\n",
    "- - -\n",
    "\n",
    "+ **변수 이름 지정시 규칙**\n",
    "  > 첫글자는 영문자\n",
    "  \n",
    "  > 숫자, 영문자, _(언더바) 가능\n",
    "  \n",
    "  > 키워드 사용 불가 (print, input, int 등등)\n",
    " \n",
    "+ **변수 이름 지정 스타일**\n",
    "  \n",
    " > *카멜 스타일* : 단어별로 대문자 첫글자\n",
    "    > - ex) numberOneValue\n",
    "    \n",
    " > *스네이크 스타일* : 단어별로 언더바\n",
    "    > - ex) number_one_value"
   ]
  },
  {
   "cell_type": "code",
   "execution_count": 8,
   "metadata": {},
   "outputs": [
    {
     "name": "stdout",
     "output_type": "stream",
     "text": [
      "Life \n"
     ]
    }
   ],
   "source": [
    "#문자열 인덱싱\n",
    "python = 'Life is too short, You need Python'\n",
    "print(python[0:5])\n"
   ]
  },
  {
   "cell_type": "code",
   "execution_count": 10,
   "metadata": {
    "collapsed": true
   },
   "outputs": [],
   "source": [
    "#아스키 코드 변환기\n",
    "def ascii(string_in):\n",
    "    if isinstance(string_in,str):\n",
    "        count = 0\n",
    "        result = []\n",
    "        for i in string_in:\n",
    "            result.append(str(ord(i)))\n",
    "            count += 1\n",
    "        return \"&\"+\"&\".join(result)\n",
    "    else:\n",
    "        return 'wrong type'\n"
   ]
  },
  {
   "cell_type": "code",
   "execution_count": 11,
   "metadata": {},
   "outputs": [
    {
     "name": "stdout",
     "output_type": "stream",
     "text": [
      "&76&105&102&101&32&105&115&32&116&111&111&32&115&104&111&114&116&44&32&89&111&117&32&110&101&101&100&32&80&121&116&104&111&110\n"
     ]
    }
   ],
   "source": [
    "print(ascii(python))"
   ]
  },
  {
   "cell_type": "code",
   "execution_count": 12,
   "metadata": {},
   "outputs": [
    {
     "name": "stdout",
     "output_type": "stream",
     "text": [
      "Life  Python\n"
     ]
    }
   ],
   "source": [
    "#문자열 슬라이싱 - 부분 추출\n",
    "strTest = 'Life is too short, You need Python'\n",
    "print(strTest[:5],strTest[-6:])"
   ]
  }
 ],
 "metadata": {
  "kernelspec": {
   "display_name": "Python 3",
   "language": "python",
   "name": "python3"
  },
  "language_info": {
   "codemirror_mode": {
    "name": "ipython",
    "version": 3
   },
   "file_extension": ".py",
   "mimetype": "text/x-python",
   "name": "python",
   "nbconvert_exporter": "python",
   "pygments_lexer": "ipython3",
   "version": "3.6.1"
  }
 },
 "nbformat": 4,
 "nbformat_minor": 1
}
