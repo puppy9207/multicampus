{
 "cells": [
  {
   "cell_type": "markdown",
   "metadata": {
    "collapsed": true
   },
   "source": [
    "# 파이썬의 자료형\n",
    "------\n",
    "\n",
    "## 기본 자료형\n",
    "\n",
    "+ 파이썬은 기본적으로 숫자, 문자열, 불린(비교) 자료형이 있다\n",
    "- - -\n",
    "\n",
    "## 숫자형\n",
    "+ 숫자형 자료는 기본적으로\n",
    "\t+ Integer\n",
    "\t+ Float이 있다.\n"
   ]
  },
  {
   "cell_type": "code",
   "execution_count": 1,
   "metadata": {},
   "outputs": [],
   "source": [
    "a = 1 # integer\n",
    "b = 1.5 #float"
   ]
  },
  {
   "cell_type": "code",
   "execution_count": 4,
   "metadata": {},
   "outputs": [
    {
     "data": {
      "text/plain": [
       "int"
      ]
     },
     "execution_count": 4,
     "metadata": {},
     "output_type": "execute_result"
    }
   ],
   "source": [
    "type(a) # 앞서 변수 설정할때 .을 붙이지 않으면 기본적으로 int형으로 설정한다."
   ]
  },
  {
   "cell_type": "code",
   "execution_count": 5,
   "metadata": {},
   "outputs": [
    {
     "data": {
      "text/plain": [
       "float"
      ]
     },
     "execution_count": 5,
     "metadata": {},
     "output_type": "execute_result"
    }
   ],
   "source": [
    "type(b) # .이 있다면 float으로 해석하겠쥬?"
   ]
  },
  {
   "cell_type": "markdown",
   "metadata": {},
   "source": [
    "## 문자형\n",
    "+ 문자형 자료는 우리가 알고있는 문자 그대로이다."
   ]
  },
  {
   "cell_type": "code",
   "execution_count": 6,
   "metadata": {},
   "outputs": [],
   "source": [
    "c = '파이썬을 처음 해보시나요?'"
   ]
  },
  {
   "cell_type": "code",
   "execution_count": 7,
   "metadata": {},
   "outputs": [
    {
     "data": {
      "text/plain": [
       "str"
      ]
     },
     "execution_count": 7,
     "metadata": {},
     "output_type": "execute_result"
    }
   ],
   "source": [
    "type(c)"
   ]
  },
  {
   "cell_type": "markdown",
   "metadata": {},
   "source": [
    "+ 파이썬은 문자열 데이터를 배열처럼 사용할 수 있다."
   ]
  },
  {
   "cell_type": "code",
   "execution_count": 8,
   "metadata": {},
   "outputs": [
    {
     "data": {
      "text/plain": [
       "'파'"
      ]
     },
     "execution_count": 8,
     "metadata": {},
     "output_type": "execute_result"
    }
   ],
   "source": [
    "c[0]"
   ]
  },
  {
   "cell_type": "markdown",
   "metadata": {},
   "source": [
    "+ 위와 같이 0번째 인덱스에 있는 값이 '파'로 나온다\n",
    "+ 문자열에서 문자 하나 하나를 배열의 값으로 친다.\n",
    "\n",
    "## 불린 (비교)\n",
    "+ 비교형은 다른 언어와 표현 방법이 다르다\n",
    "+ ***True*** , ***False*** 로 앞글자를 대문자로 써야한다"
   ]
  },
  {
   "cell_type": "code",
   "execution_count": 22,
   "metadata": {},
   "outputs": [
    {
     "name": "stdout",
     "output_type": "stream",
     "text": [
      "True\nTrue\nFalse\nFalse\n"
     ]
    }
   ],
   "source": [
    "print(True == True)\n",
    "print(False == False)\n",
    "print(True == False)\n",
    "print(False == True)"
   ]
  },
  {
   "cell_type": "markdown",
   "metadata": {},
   "source": [
    "## 연산자 설명\n",
    "\n",
    "- - -\n",
    "+ **문자열 연산자** : +, *\n",
    "\n",
    "+ **산술 연산자** : +,-,*,/,//,%,***\n",
    "\n",
    "+ **관계 연산자** : ==, <=, >=, >, <\n",
    "\n",
    "+ **대입 연산자** : +=, -=, *= , /=, (++,-- 증감연산자는 없음)"
   ]
  },
  {
   "cell_type": "code",
   "execution_count": 9,
   "metadata": {},
   "outputs": [
    {
     "name": "stdout",
     "output_type": "stream",
     "text": [
      "강아지키우고싶다~\n"
     ]
    }
   ],
   "source": [
    "# 문자열 연산\n",
    "animal = '강아지'\n",
    "talk = ' 키우고싶다~'\n",
    "animalTalk = animal+talk\n",
    "print(animalTalk)"
   ]
  },
  {
   "cell_type": "code",
   "execution_count": 10,
   "metadata": {},
   "outputs": [
    {
     "name": "stdout",
     "output_type": "stream",
     "text": [
      "**************************************************\n"
     ]
    }
   ],
   "source": [
    "# 파이썬은 특이하게 문자열에 *연산을 하면 오류가 나는게 아니라\n",
    "# 해당 문자열을 반복한다\n",
    "gubun = '*'\n",
    "print(gubun*50)"
   ]
  },
  {
   "cell_type": "code",
   "execution_count": 14,
   "metadata": {},
   "outputs": [
    {
     "name": "stdout",
     "output_type": "stream",
     "text": [
      "2\n"
     ]
    }
   ],
   "source": [
    "# 다른거는 다 알테니까 모를만한것만 적어봅니다\n",
    "a = 7\n",
    "b = 3\n",
    "print(a//b) # 나눴을때 값에서 소수점부분을 잘라낸 정수값만 출력"
   ]
  },
  {
   "cell_type": "code",
   "execution_count": 16,
   "metadata": {},
   "outputs": [
    {
     "name": "stdout",
     "output_type": "stream",
     "text": [
      "1\n"
     ]
    }
   ],
   "source": [
    "print(a%b) # 나눴을때 나머지 값을 배출"
   ]
  },
  {
   "cell_type": "code",
   "execution_count": 17,
   "metadata": {},
   "outputs": [
    {
     "name": "stdout",
     "output_type": "stream",
     "text": [
      "343\n"
     ]
    }
   ],
   "source": [
    "print(a**b) #a를 b번 제곱"
   ]
  },
  {
   "cell_type": "code",
   "execution_count": null,
   "metadata": {},
   "outputs": [],
   "source": []
  }
 ],
 "metadata": {
  "kernelspec": {
   "display_name": "Python 2",
   "language": "python",
   "name": "python2"
  },
  "language_info": {
   "codemirror_mode": {
    "name": "ipython",
    "version": 2
   },
   "file_extension": ".py",
   "mimetype": "text/x-python",
   "name": "python",
   "nbconvert_exporter": "python",
   "pygments_lexer": "ipython2",
   "version": "2.7.6"
  }
 },
 "nbformat": 4,
 "nbformat_minor": 0
}
