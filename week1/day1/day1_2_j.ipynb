{
 "cells": [
  {
   "cell_type": "code",
   "execution_count": 1,
   "metadata": {
    "collapsed": true
   },
   "outputs": [
    {
     "name": "stdout",
     "output_type": "stream",
     "text": [
      "True\nFalse\n"
     ]
    }
   ],
   "source": [
    "#기본 자료형\n",
    "#숫자형(정수, 실수), 문자열, 불린(true,false)\n",
    "\n",
    "print(10>0)\n",
    "print(True != True)"
   ]
  },
  {
   "cell_type": "code",
   "execution_count": 2,
   "metadata": {},
   "outputs": [
    {
     "name": "stdout",
     "output_type": "stream",
     "text": [
      "False\n"
     ]
    }
   ],
   "source": [
    "#관계 연산자\n",
    "#> , < , >=, <=, ==, !-\n",
    "\n",
    "print(10 == 0)"
   ]
  },
  {
   "cell_type": "code",
   "execution_count": 3,
   "metadata": {},
   "outputs": [
    {
     "name": "stdout",
     "output_type": "stream",
     "text": [
      "1\n<class 'int'>\n1\n<class 'str'>\n"
     ]
    }
   ],
   "source": [
    "#Casting 자료형 변환. 자료형을 변경하는 기능\n",
    "#숫자 -> 문자, 문자 -> 숫자, 실수 -> 정수, 정수 -> 실수\n",
    "\n",
    "#1. 숫자 -> 문자\n",
    "print(1) #정수형 타입\n",
    "print(type(1))\n",
    "print(str(1))\n",
    "print(type(str(1)))"
   ]
  },
  {
   "cell_type": "code",
   "execution_count": 4,
   "metadata": {},
   "outputs": [
    {
     "name": "stdout",
     "output_type": "stream",
     "text": [
      "12\n<class 'str'>\n12\n<class 'int'>\n"
     ]
    }
   ],
   "source": [
    "#2.1 문자 -> 숫자(정수)\n",
    "print('12')\n",
    "print(type('12'))\n",
    "print(int('12'))\n",
    "print(type(int('12')))"
   ]
  },
  {
   "cell_type": "code",
   "execution_count": 5,
   "metadata": {},
   "outputs": [
    {
     "name": "stdout",
     "output_type": "stream",
     "text": [
      "1.25\n<class 'str'>\n1.25\n<class 'float'>\n"
     ]
    }
   ],
   "source": [
    "#2.2 문자 -> 숫자(실수)\n",
    "print('1.25')\n",
    "print(type('1.25'))\n",
    "print(float('1.25'))\n",
    "print(type(float('1.25')))"
   ]
  },
  {
   "cell_type": "code",
   "execution_count": 6,
   "metadata": {},
   "outputs": [
    {
     "name": "stdout",
     "output_type": "stream",
     "text": [
      "25\n<class 'int'>\n25.0\n<class 'float'>\n"
     ]
    }
   ],
   "source": [
    "#3. 정수 -> 실수\n",
    "print(25)\n",
    "print(type(25))\n",
    "print(float(25))\n",
    "print(type(float(25)))"
   ]
  },
  {
   "cell_type": "code",
   "execution_count": 7,
   "metadata": {},
   "outputs": [],
   "source": []
  },
  {
   "cell_type": "code",
   "execution_count": 7,
   "metadata": {},
   "outputs": [],
   "source": []
  },
  {
   "cell_type": "code",
   "execution_count": 7,
   "metadata": {},
   "outputs": [],
   "source": []
  },
  {
   "cell_type": "code",
   "execution_count": 7,
   "metadata": {},
   "outputs": [],
   "source": []
  },
  {
   "cell_type": "code",
   "execution_count": null,
   "metadata": {},
   "outputs": [],
   "source": []
  }
 ],
 "metadata": {
  "kernelspec": {
   "display_name": "Python 2",
   "language": "python",
   "name": "python2"
  },
  "language_info": {
   "codemirror_mode": {
    "name": "ipython",
    "version": 2
   },
   "file_extension": ".py",
   "mimetype": "text/x-python",
   "name": "python",
   "nbconvert_exporter": "python",
   "pygments_lexer": "ipython2",
   "version": "2.7.6"
  }
 },
 "nbformat": 4,
 "nbformat_minor": 0
}
